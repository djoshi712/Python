{
 "cells": [
  {
   "cell_type": "markdown",
   "metadata": {},
   "source": [
    "###   why files?\n",
    "   \n",
    "   \n",
    "   When you want to work with a file, the first thing to do is to open it. This is done by invoking the open() built-in function. open() has a single return: the file object.\n",
    "    \n",
    "    It’s important to remember that it’s your responsibility to close the file. In most cases, upon termination of an application or script, a file will be closed eventually. However, there is no guarantee when exactly that will happen."
   ]
  },
  {
   "cell_type": "code",
   "execution_count": null,
   "metadata": {},
   "outputs": [],
   "source": [
    "'''\n",
    "Each line of a file is terminated with a special character, called the EOL or End of Line characters \n",
    "like comma {,} or newline character. It ends the current line and tells the interpreter a new one has\n",
    "begun. \n",
    "open(filename, mode).\n",
    "“ r “, for reading. >> default\n",
    "“ w “, for writing.\n",
    "“ a “, for appending.\n",
    "“ r+ “, for both reading and writing\n",
    "\n",
    "'''"
   ]
  },
  {
   "cell_type": "code",
   "execution_count": 2,
   "metadata": {},
   "outputs": [
    {
     "name": "stdout",
     "output_type": "stream",
     "text": [
      "It is an unwritten consensus that Python is one of the best starting programming languages to learn as a novice. It is extremely versatile, easy to read/analyze, and quite pleasant to the eye. The Python programming language is highly scalable and is widely considered as one of the best toolboxes to build tools and utilities that you may want to use for diverse reasons.\n",
      "\n",
      "This article will briefly covers how Python handles one of the most important components of any operating system: its files and directories. Fortunately, Python has built-in functions to create and manipulate files, either flat files or text files. The io module is the default module for accessing files, therefore we will not need to import any external library for general IO operations.\n",
      "\n",
      "dkrhfgdjnf \n"
     ]
    }
   ],
   "source": [
    "# default mode is read while opening the file\n",
    "try:\n",
    "    file = open('D:/C drive/Desktop/files/student.txt') \n",
    "except FileNotFoundError:\n",
    "    print(\"File is not avilable in the location\")\n",
    "else:\n",
    "    for i in file: \n",
    "        print(i) \n",
    "finally:\n",
    "    file.close()"
   ]
  },
  {
   "cell_type": "code",
   "execution_count": null,
   "metadata": {},
   "outputs": [],
   "source": []
  },
  {
   "cell_type": "code",
   "execution_count": null,
   "metadata": {},
   "outputs": [],
   "source": [
    "f= open(\"student.txt\")\n",
    "try:\n",
    "    #   processing\n",
    "except:\n",
    "    \n",
    "finally:\n",
    "    f.close()"
   ]
  },
  {
   "cell_type": "code",
   "execution_count": null,
   "metadata": {},
   "outputs": [],
   "source": [
    "# no need of finally block\n",
    "with open(\"student.txt\") as f:\n",
    "    #  data processing\n",
    "    \n",
    "# file is closed here"
   ]
  },
  {
   "cell_type": "markdown",
   "metadata": {},
   "source": [
    "### open()\n",
    "    We use open () function in Python to open a file in read or write mode. As explained above, open ( ) will return a file object\n",
    "    open(filename, mode). \n",
    "    \n",
    "    “ r “, for reading.\n",
    "    “ w “, for writing.\n",
    "     \"a\"   for appending.\n",
    "     \"w+\"  for write and read\n",
    "    “ r+ “, for both reading and writing\n",
    "    \n",
    "    If not passed, then Python will assume it to be “ r ” by default."
   ]
  },
  {
   "cell_type": "code",
   "execution_count": null,
   "metadata": {},
   "outputs": [],
   "source": [
    "# a file named \"student\", will be opened with the reading mode. \n",
    "file = open('C:/Users/djoshi/Desktop/files/student.txt') \n",
    "# This will print every line one by one in the file \n",
    "for each in file: \n",
    "    print(each) "
   ]
  },
  {
   "cell_type": "markdown",
   "metadata": {},
   "source": [
    "### Reading From a File\n",
    "    read() takes a number as a parameter and reads from the file based on that number of bytes. If no argument is passed, or None or -1 is passed, then the entire file is read.\n",
    "\n",
    "    readline() takes a number as a parameter and reads at most that number of characters from the line. This continues to the end of the line and then wraps back around. If no argument is passed, or None or -1 is passed, then the entire line (or rest of the line) is read.\n",
    "\n",
    "    readlines() reads the remaining lines from the file object and returns them as a list."
   ]
  },
  {
   "cell_type": "code",
   "execution_count": 7,
   "metadata": {},
   "outputs": [
    {
     "name": "stdout",
     "output_type": "stream",
     "text": [
      "['It', 'is', 'an', 'unwritten', 'consensus', 'that', 'Python', 'is', 'one', 'of', 'the', 'best', 'starting', 'programming', 'languages', 'to', 'learn', 'as', 'a', 'novice.', 'It', 'is', 'extremely', 'versatile,', 'easy', 'to', 'read/analyze,', 'and', 'quite', 'pleasant', 'to', 'the', 'eye.', 'The', 'Python', 'programming', 'language', 'is', 'highly', 'scalable', 'and', 'is', 'widely', 'considered', 'as', 'one', 'of', 'the', 'best', 'toolboxes', 'to', 'build', 'tools', 'and', 'utilities', 'that', 'you', 'may', 'want', 'to', 'use', 'for', 'diverse', 'reasons.', 'This', 'article', 'will', 'briefly', 'covers', 'how', 'Python', 'handles', 'one', 'of', 'the', 'most', 'important', 'components', 'of', 'any', 'operating', 'system:', 'its', 'files', 'and', 'directories.', 'Fortunately,', 'Python', 'has', 'built-in', 'functions', 'to', 'create', 'and', 'manipulate', 'files,', 'either', 'flat', 'files', 'or', 'text', 'files.', 'The', 'io', 'module', 'is', 'the', 'default', 'module', 'for', 'accessing', 'files,', 'therefore', 'we', 'will', 'not', 'need', 'to', 'import', 'any', 'external', 'library', 'for', 'general', 'IO', 'operations.', 'dkrhfgdjnf'] <class 'list'> 127\n"
     ]
    }
   ],
   "source": [
    "# read function\n",
    "f = open('D:/C drive/Desktop/files/student.txt', 'r')\n",
    "data= f.read()\n",
    "new=data.split()\n",
    "print(new, type(new), len(new))\n",
    "f.close()"
   ]
  },
  {
   "cell_type": "code",
   "execution_count": 8,
   "metadata": {},
   "outputs": [
    {
     "name": "stdout",
     "output_type": "stream",
     "text": [
      "['It', 'is', 'an', 'unwritten', 'consensus', 'that', 'Python', 'is', 'one', 'of', 'the', 'best', 'starting', 'programming', 'languages', 'to', 'learn', 'as', 'a', 'novice.', 'It', 'is', 'extremely', 'versatile,', 'easy', 'to', 'read/analyze,', 'and', 'quite', 'pleasant', 'to', 'the', 'eye.', 'The', 'Python', 'programming', 'language', 'is', 'highly', 'scalable', 'and', 'is', 'widely', 'considered', 'as', 'one', 'of', 'the', 'best', 'toolboxes', 'to', 'build', 'tools', 'and', 'utilities', 'that', 'you', 'may', 'want', 'to', 'use', 'for', 'diverse', 'reasons.', 'This', 'article', 'will', 'briefly', 'covers', 'how', 'Python', 'handles', 'one', 'of', 'the', 'most', 'important', 'components', 'of', 'any', 'operating', 'system:', 'its', 'files', 'and', 'directories.', 'Fortunately,', 'Python', 'has', 'built-in', 'functions', 'to', 'create', 'and', 'manipulate', 'files,', 'either', 'flat', 'files', 'or', 'text', 'files.', 'The', 'io', 'module', 'is', 'the', 'default', 'module', 'for', 'accessing', 'files,', 'therefore', 'we', 'will', 'not', 'need', 'to', 'import', 'any', 'external', 'library', 'for', 'general', 'IO', 'operations.', 'dkrhfgdjnf'] <class 'list'> 127\n"
     ]
    }
   ],
   "source": [
    "# better approach\n",
    "with open(\"D:/C drive/Desktop/files/student.txt\", 'r') as f:\n",
    "    data= f.read()\n",
    "    new=data.split()\n",
    "    print(new, type(new), len(new))"
   ]
  },
  {
   "cell_type": "code",
   "execution_count": 9,
   "metadata": {},
   "outputs": [
    {
     "name": "stdout",
     "output_type": "stream",
     "text": [
      "It is an unwritten consensus that Python is one of the best starting programming languages to learn as a novice. It is extremely versatile, easy to read/analyze, and quite pleasant to the eye. The Python programming language is highly scalable and is widely considered as one of the best toolboxes to build tools and utilities that you may want to use for diverse reasons.\n",
      " <class 'str'>\n"
     ]
    }
   ],
   "source": [
    "# https://stackoverflow.com/questions/42971904/readline-with-for-loop-issue#:~:text=When%20the%20f%20iterator%20moves,readline()%20.\n",
    "with open(\"D:/C drive/Desktop/files/student.txt\") as f:\n",
    "    data= f.readline()\n",
    "    print(data, type(data))"
   ]
  },
  {
   "cell_type": "code",
   "execution_count": 16,
   "metadata": {},
   "outputs": [
    {
     "name": "stdout",
     "output_type": "stream",
     "text": [
      "It \n"
     ]
    }
   ],
   "source": [
    "with open(\"D:/C drive/Desktop/files/student.txt\") as f:\n",
    "    print(f.readline(3))\n",
    "#     print(f.readline())\n",
    "#     print(f.readline())"
   ]
  },
  {
   "cell_type": "code",
   "execution_count": 18,
   "metadata": {},
   "outputs": [
    {
     "name": "stdout",
     "output_type": "stream",
     "text": [
      "It is an unwritten consensus that Python is one of the best starting programming languages to learn as a novice. It is extremely versatile, easy to read/analyze, and quite pleasant to the eye. The Python programming language is highly scalable and is widely considered as one of the best toolboxes to build tools and utilities that you may want to use for diverse reasons.\n",
      "\n",
      "This article will briefly covers how Python handles one of the most important components of any operating system: its files and directories. Fortunately, Python has built-in functions to create and manipulate files, either flat files or text files. The io module is the default module for accessing files, therefore we will not need to import any external library for general IO operations.\n",
      "\n"
     ]
    }
   ],
   "source": [
    "with open(\"D:/C drive/Desktop/files/student.txt\") as f: \n",
    "    for i in range(2):\n",
    "        print(f.readline())"
   ]
  },
  {
   "cell_type": "code",
   "execution_count": null,
   "metadata": {},
   "outputs": [],
   "source": [
    "with open(\"D:/C drive/Desktop/files/student.txt\") as f:\n",
    "    for i in f:\n",
    "        print(i, type(i))"
   ]
  },
  {
   "cell_type": "code",
   "execution_count": 24,
   "metadata": {},
   "outputs": [
    {
     "name": "stdout",
     "output_type": "stream",
     "text": [
      "['It is an unwritten consensus that Python is one of the best starting programming languages to learn as a novice. It is extremely versatile, easy to read/analyze, and quite pleasant to the eye. The Python programming language is highly scalable and is widely considered as one of the best toolboxes to build tools and utilities that you may want to use for diverse reasons.\\n', 'This article will briefly covers how Python handles one of the most important components of any operating system: its files and directories. Fortunately, Python has built-in functions to create and manipulate files, either flat files or text files. The io module is the default module for accessing files, therefore we will not need to import any external library for general IO operations.\\n', 'dkrhfgdjnf'] <class 'list'> 3\n"
     ]
    }
   ],
   "source": [
    "with open(\"D:/C drive/Desktop/files/student.txt\") as f:\n",
    "    data= f.readlines()\n",
    "    print(data, type(data), len(data))"
   ]
  },
  {
   "cell_type": "code",
   "execution_count": 30,
   "metadata": {},
   "outputs": [
    {
     "data": {
      "text/plain": [
       "[2, 3, 4]"
      ]
     },
     "execution_count": 30,
     "metadata": {},
     "output_type": "execute_result"
    }
   ],
   "source": [
    "example= [1,2,3,4]\n",
    "example[1:]"
   ]
  },
  {
   "cell_type": "code",
   "execution_count": 38,
   "metadata": {},
   "outputs": [
    {
     "data": {
      "text/plain": [
       "'23'"
      ]
     },
     "execution_count": 38,
     "metadata": {},
     "output_type": "execute_result"
    }
   ],
   "source": [
    "s= \"   23    \"\n",
    "s.strip()"
   ]
  },
  {
   "cell_type": "code",
   "execution_count": 47,
   "metadata": {},
   "outputs": [
    {
     "name": "stdout",
     "output_type": "stream",
     "text": [
      "['Ram\\t10\\t44\\n', 'SHyam\\t20\\t45\\n', 'Sita\\t30\\t67']\n",
      "156\n"
     ]
    }
   ],
   "source": [
    "marks=0\n",
    "with open('D:/C drive/Desktop/files/marks.txt', 'r') as f:\n",
    "    record=f.readlines()[1:]\n",
    "    print(record)\n",
    "    for i in record:\n",
    "        data= i.rstrip('\\n').split('\\t')\n",
    "        marks+= int(data[2])\n",
    "    print(marks)"
   ]
  },
  {
   "cell_type": "code",
   "execution_count": null,
   "metadata": {},
   "outputs": [],
   "source": [
    "# readlines\n",
    "marks=0\n",
    "with open('D:/C drive/Desktop/files/marks.txt', 'r') as f:\n",
    "    student=f.readlines()[1:]\n",
    "#     print(student, len(student))\n",
    "    for i in student:\n",
    "        data= i.rstrip('\\n').split('\\t')\n",
    "#         print(data)\n",
    "        marks+= int(data[2])\n",
    "    print(marks)"
   ]
  },
  {
   "cell_type": "code",
   "execution_count": null,
   "metadata": {},
   "outputs": [],
   "source": [
    "s= 'Ram    10     44'\n",
    "['Ram', '10', '44']"
   ]
  },
  {
   "cell_type": "code",
   "execution_count": null,
   "metadata": {},
   "outputs": [],
   "source": [
    "# approach-2\n",
    "marks=0\n",
    "with open('D:/C drive/Desktop/files/marks.txt', 'r') as f:\n",
    "    next(f)\n",
    "    for i in f:\n",
    "        data= i.rstrip('\\n').split('\\t')\n",
    "        marks+= int(data[2])\n",
    "    print(marks)"
   ]
  },
  {
   "cell_type": "code",
   "execution_count": null,
   "metadata": {},
   "outputs": [],
   "source": [
    "\"   abc   \".lstrip()"
   ]
  },
  {
   "cell_type": "code",
   "execution_count": null,
   "metadata": {},
   "outputs": [],
   "source": [
    "# use readlines\n",
    "sum=0\n",
    "with open('D:/C drive/Desktop/files/marks.txt') as f:  \n",
    "    student= f.readlines()[1:]\n",
    "    print(student)\n",
    "    for i in range(len(student)):\n",
    "        new= student[i].rstrip('\\n').split('\\t')\n",
    "        sum= sum+ int(new[2])\n",
    "    print(sum/len(student))\n",
    "    print(round(sum/len(student),2))\n",
    "    print ('%.2f'%(sum/len(student))) "
   ]
  },
  {
   "cell_type": "code",
   "execution_count": 11,
   "metadata": {},
   "outputs": [
    {
     "data": {
      "text/plain": [
       "['kdj ,zdlszkdjfmsldk lzdjg', '      sdkjf lszdjf lsdkgj']"
      ]
     },
     "execution_count": 11,
     "metadata": {},
     "output_type": "execute_result"
    }
   ],
   "source": [
    "s= \"djvh sjdh zszkdhf kzhd\"\n",
    "s.split()\n",
    "s= '''kdj ,zdlszkdjfmsldk lzdjg\n",
    "      sdkjf lszdjf lsdkgj'''\n",
    "s.splitlines()"
   ]
  },
  {
   "cell_type": "code",
   "execution_count": 15,
   "metadata": {},
   "outputs": [
    {
     "name": "stdout",
     "output_type": "stream",
     "text": [
      "name\tage\tmarks\n",
      "Ram\t10\t44\n",
      "SHyam\t20\t45\n",
      "Sita\t30\t67 <class 'str'>\n",
      "['Ram\\t10\\t44', 'SHyam\\t20\\t45', 'Sita\\t30\\t67']\n",
      "['Ram', '10', '44']\n",
      "['SHyam', '20', '45']\n",
      "['Sita', '30', '67']\n",
      "156\n"
     ]
    }
   ],
   "source": [
    "# using read and splitlines\n",
    "# readlines() function is considered to be much slower and more inefficient than the read() function,\n",
    "# without not many benefits. One good alternative to this is using a loop that will function much \n",
    "# smoother and faster:\n",
    "sum=0\n",
    "with open('D:/C drive/Desktop/files/marks.txt') as f:  \n",
    "    student= f.read()\n",
    "    print(student, type(student))\n",
    "    student= student.splitlines()[1:]\n",
    "    print(student)\n",
    "    for i in student:\n",
    "        data=i.split('\\t')\n",
    "        print(data)\n",
    "        sum= sum+ int(data[2])\n",
    "    print(sum)"
   ]
  },
  {
   "cell_type": "code",
   "execution_count": null,
   "metadata": {},
   "outputs": [],
   "source": [
    "print(student, type(student))\n",
    "    student= student.splitlines()[1:]\n",
    "    print(student, type(student))\n",
    "    for i in range(len(student)):\n",
    "        new= student[i].split('\\t')\n",
    "        sum= sum+ int(new[2])\n",
    "#         print(new, end='')\n",
    "    print(sum/len(student))"
   ]
  },
  {
   "cell_type": "code",
   "execution_count": null,
   "metadata": {},
   "outputs": [],
   "source": [
    "'''\n",
    "with open('filename') as fin:\n",
    "    next(fin) \n",
    "    for line in fin:\n",
    "        ... # do something\n",
    " '''\n",
    "# This is simple and easy because of the nature of fin, being a generator.\n",
    "'''\n",
    "itertools.islice(iterable, stop)\n",
    "itertools.islice(iterable, start, stop[, step])\n",
    "'''"
   ]
  },
  {
   "cell_type": "code",
   "execution_count": null,
   "metadata": {},
   "outputs": [],
   "source": [
    "# http://stupidpythonideas.blogspot.com/2013/06/readlines-considered-silly.html\n",
    "# https://stackoverflow.com/questions/17246260/python-readlines-usage-and-efficient-practice-for-reading\n",
    "# Note that it’s already possible to iterate on file objects using for line in file:... without \n",
    "# calling file.readlines().\n",
    "sum=0\n",
    "with open('C:/Users/djoshi/Desktop/files/marks.txt') as f:  \n",
    "    next(f)\n",
    "    for i in f:\n",
    "        print(i, type(i))\n",
    "        student= i.rstrip('\\n').split('\\t')\n",
    "        print(student, type(student))\n",
    "        sum= sum+ int(student[2])\n",
    "        \n",
    "    print(sum/len(student))"
   ]
  },
  {
   "cell_type": "markdown",
   "metadata": {},
   "source": [
    "### default mode is read\n",
    "\n",
    "    with open(\"C:/Users/djoshi/Desktop/files/student.txt\") as f:\n",
    "    or        \n",
    "    with open(\"C:/Users/djoshi/Desktop/files/student.txt\", 'r') as f:"
   ]
  },
  {
   "cell_type": "code",
   "execution_count": null,
   "metadata": {},
   "outputs": [],
   "source": [
    "# Question\n",
    "# https://www.w3resource.com/python-exercises/file/\n",
    "# Reference\n",
    "# https://www.youtube.com/watch?v=uplNFlYPg_A&t=1056s"
   ]
  },
  {
   "cell_type": "code",
   "execution_count": 21,
   "metadata": {},
   "outputs": [],
   "source": [
    "# Write a python program to find the longest words\n",
    "def longest_word(filename):\n",
    "    with open(filename, 'r') as f:\n",
    "        print(f.read())\n",
    "        \n",
    "        \n",
    "        "
   ]
  },
  {
   "cell_type": "code",
   "execution_count": 28,
   "metadata": {},
   "outputs": [
    {
     "data": {
      "text/plain": [
       "'bsfsesddfsdfc'"
      ]
     },
     "execution_count": 28,
     "metadata": {},
     "output_type": "execute_result"
    }
   ],
   "source": [
    "l= ['znb', 'cdgsfg', 'bsfsesddfsdfc', 's']\n",
    "max(l, key=my_fun)"
   ]
  },
  {
   "cell_type": "code",
   "execution_count": 31,
   "metadata": {},
   "outputs": [
    {
     "data": {
      "text/plain": [
       "'bsfsesddfsdfc'"
      ]
     },
     "execution_count": 31,
     "metadata": {},
     "output_type": "execute_result"
    }
   ],
   "source": [
    "l= ['znb', 'cdgsfg', 'bsfsesddfsdfc', 's']\n",
    "max(l, key=lambda s: len(s))\n",
    "# max(l)"
   ]
  },
  {
   "cell_type": "code",
   "execution_count": null,
   "metadata": {},
   "outputs": [],
   "source": [
    "[3, 6, 12, 1]"
   ]
  },
  {
   "cell_type": "code",
   "execution_count": 27,
   "metadata": {},
   "outputs": [],
   "source": [
    "# def my_fun(s):\n",
    "#     return len(s)"
   ]
  },
  {
   "cell_type": "code",
   "execution_count": 26,
   "metadata": {},
   "outputs": [
    {
     "data": {
      "text/plain": [
       "3"
      ]
     },
     "execution_count": 26,
     "metadata": {},
     "output_type": "execute_result"
    }
   ],
   "source": [
    "len('znb')"
   ]
  },
  {
   "cell_type": "code",
   "execution_count": 22,
   "metadata": {},
   "outputs": [
    {
     "name": "stdout",
     "output_type": "stream",
     "text": [
      "It is an unwritten consensus that Python is one of the best starting programming languages to learn as a novice. It is extremely versatile, easy to read/analyze, and quite pleasant to the eye. The Python programming language is highly scalable and is widely considered as one of the best toolboxes to build tools and utilities that you may want to use for diverse reasons.\n",
      "This article will briefly covers how Python handles one of the most important components of any operating system: its files and directories. Fortunately, Python has built-in functions to create and manipulate files, either flat files or text files. The io module is the default module for accessing files, therefore we will not need to import any external library for general IO operations.\n",
      "dkrhfgdjnf\n"
     ]
    }
   ],
   "source": [
    "longest_word('D:/C drive/Desktop/files/student.txt')"
   ]
  },
  {
   "cell_type": "code",
   "execution_count": null,
   "metadata": {},
   "outputs": [],
   "source": [
    "s= 'hello hello hi bye'"
   ]
  },
  {
   "cell_type": "code",
   "execution_count": 38,
   "metadata": {},
   "outputs": [],
   "source": [
    "# Write a python program to find the longest words\n",
    "def longest_word(filename):\n",
    "    with open(filename, 'r') as f:\n",
    "              words = f.read().split()\n",
    "#     print(words)\n",
    "    max_len = max(words, key=my_fun)\n",
    "    print(max_len)"
   ]
  },
  {
   "cell_type": "code",
   "execution_count": 39,
   "metadata": {},
   "outputs": [
    {
     "name": "stdout",
     "output_type": "stream",
     "text": [
      "read/analyze,\n"
     ]
    }
   ],
   "source": [
    "longest_word('D:/C drive/Desktop/files/student.txt')"
   ]
  },
  {
   "cell_type": "code",
   "execution_count": 44,
   "metadata": {},
   "outputs": [],
   "source": [
    "# Write a Python program to count the number of lines in a text fil\n",
    "def lines(filename):\n",
    "    with open(filename, 'r') as f:\n",
    "        print(len(f.readlines()))"
   ]
  },
  {
   "cell_type": "code",
   "execution_count": 45,
   "metadata": {},
   "outputs": [
    {
     "name": "stdout",
     "output_type": "stream",
     "text": [
      "7\n"
     ]
    }
   ],
   "source": [
    "lines('D:/C drive/Desktop/files/student.txt')"
   ]
  },
  {
   "cell_type": "code",
   "execution_count": null,
   "metadata": {},
   "outputs": [],
   "source": [
    "def longest_word(filename):\n",
    "    with open(filename, 'r') as f:\n",
    "              words = f.read().split()\n",
    "#     print(words)\n",
    "    max_len = max(words, key=my_fun)\n",
    "    print(max_len)"
   ]
  },
  {
   "cell_type": "code",
   "execution_count": 35,
   "metadata": {},
   "outputs": [],
   "source": [
    "def my_fun(word):\n",
    "    return len(word)"
   ]
  },
  {
   "cell_type": "code",
   "execution_count": null,
   "metadata": {},
   "outputs": [],
   "source": [
    "# Count the number of lines in a text file\n",
    "def count_no_lines(filename):\n",
    "    with open(filename, 'r') as f:\n",
    "        words = f.readlines()\n",
    "        print(len(words))"
   ]
  },
  {
   "cell_type": "code",
   "execution_count": null,
   "metadata": {},
   "outputs": [],
   "source": [
    "count_no_lines('D:/C drive/Desktop/files/student.txt')"
   ]
  },
  {
   "cell_type": "code",
   "execution_count": null,
   "metadata": {},
   "outputs": [],
   "source": [
    "def count_no_lines(filename):\n",
    "    with open(filename, 'r') as f:\n",
    "        for i, l in enumerate(f):\n",
    "                        pass\n",
    "        print(i + 1)"
   ]
  },
  {
   "cell_type": "code",
   "execution_count": null,
   "metadata": {},
   "outputs": [],
   "source": []
  }
 ],
 "metadata": {
  "kernelspec": {
   "display_name": "Python 3.6 (tensorflow)",
   "language": "python",
   "name": "py36"
  },
  "language_info": {
   "codemirror_mode": {
    "name": "ipython",
    "version": 3
   },
   "file_extension": ".py",
   "mimetype": "text/x-python",
   "name": "python",
   "nbconvert_exporter": "python",
   "pygments_lexer": "ipython3",
   "version": "3.6.8"
  }
 },
 "nbformat": 4,
 "nbformat_minor": 2
}
